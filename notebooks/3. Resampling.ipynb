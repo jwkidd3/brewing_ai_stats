{
 "cells": [
  {
   "cell_type": "markdown",
   "metadata": {},
   "source": [
    "### Problem\n",
    "The number of shoes sold by an e-commerce company during the first three months(12 weeks) of the year were:\n",
    "<br>\n",
    "23 21 19 24 35 17 18 24 33 27 21 23\n",
    "\n",
    "Meanwhile, the company developed some dynamic price optimization algorithms and the sales for the next 12 weeks were:\n",
    "<br>\n",
    "31 28 19 24 32 27 16 41 23 32 29 33\n",
    "\n",
    "Did the dynamic price optimization algorithm deliver superior results? Can it be trusted?\n",
    "\n",
    "### Solution\n",
    "\n",
    "Before we get onto different approaches, let's quickly get a feel for the data\n",
    "\n"
   ]
  },
  {
   "cell_type": "code",
   "execution_count": 1,
   "metadata": {},
   "outputs": [],
   "source": [
    "import numpy as np\n",
    "import seaborn as sns\n",
    "sns.set(color_codes=True)\n",
    "%matplotlib inline"
   ]
  },
  {
   "cell_type": "code",
   "execution_count": 2,
   "metadata": {},
   "outputs": [],
   "source": [
    "#Load the data\n",
    "before_opt = np.array([23, 21, 19, 24, 35, 17, 18, 24, 33, 27, 21, 23])\n",
    "after_opt = np.array([31, 28, 19, 24, 32, 27, 16, 41, 23, 32, 29, 33])"
   ]
  },
  {
   "cell_type": "code",
   "execution_count": 3,
   "metadata": {},
   "outputs": [
    {
     "data": {
      "text/plain": [
       "23.75"
      ]
     },
     "execution_count": 3,
     "metadata": {},
     "output_type": "execute_result"
    }
   ],
   "source": [
    "before_opt.mean()"
   ]
  },
  {
   "cell_type": "code",
   "execution_count": 4,
   "metadata": {},
   "outputs": [
    {
     "data": {
      "text/plain": [
       "27.916666666666668"
      ]
     },
     "execution_count": 4,
     "metadata": {},
     "output_type": "execute_result"
    }
   ],
   "source": [
    "after_opt.mean()"
   ]
  },
  {
   "cell_type": "code",
   "execution_count": 5,
   "metadata": {},
   "outputs": [],
   "source": [
    "observed_difference = after_opt.mean() - before_opt.mean()"
   ]
  },
  {
   "cell_type": "code",
   "execution_count": 6,
   "metadata": {},
   "outputs": [
    {
     "name": "stdout",
     "output_type": "stream",
     "text": [
      "Difference between the means is: 4.16666666667\n"
     ]
    }
   ],
   "source": [
    "print (\"Difference between the means is:\", observed_difference)"
   ]
  },
  {
   "cell_type": "markdown",
   "metadata": {},
   "source": [
    "On average, the sales after optimization is more than the sales before optimization. But is the difference legit? Could it be due to chance?\n",
    "\n",
    "**Classical Method** : We could cover this method later on. This entails doing a *t-test* \n",
    "\n",
    "**Hacker's Method** : Let's see if we can provide a hacker's perspective to this problem, similar to what we did in the previous notebook."
   ]
  },
  {
   "cell_type": "code",
   "execution_count": null,
   "metadata": {
    "collapsed": true
   },
   "outputs": [],
   "source": [
    "#Step 1: Create the dataset. Let's give Label 0 to before_opt and Label 1 to after_opt"
   ]
  },
  {
   "cell_type": "code",
   "execution_count": null,
   "metadata": {
    "collapsed": true
   },
   "outputs": [],
   "source": [
    "#Learn about the following three functions"
   ]
  },
  {
   "cell_type": "code",
   "execution_count": 6,
   "metadata": {},
   "outputs": [],
   "source": [
    "?np.append"
   ]
  },
  {
   "cell_type": "code",
   "execution_count": null,
   "metadata": {
    "collapsed": true
   },
   "outputs": [],
   "source": [
    "?np.zeros"
   ]
  },
  {
   "cell_type": "code",
   "execution_count": null,
   "metadata": {
    "collapsed": true
   },
   "outputs": [],
   "source": [
    "?np.ones"
   ]
  },
  {
   "cell_type": "code",
   "execution_count": 7,
   "metadata": {},
   "outputs": [],
   "source": [
    "shoe_sales = np.array([np.append(np.zeros(before_opt.shape[0]), np.ones(after_opt.shape[0])),\n",
    "np.append(before_opt, after_opt)], dtype=int)"
   ]
  },
  {
   "cell_type": "code",
   "execution_count": 8,
   "metadata": {},
   "outputs": [
    {
     "name": "stdout",
     "output_type": "stream",
     "text": [
      "Shape: (2, 24)\n",
      "Data: \n",
      " [[ 0  0  0  0  0  0  0  0  0  0  0  0  1  1  1  1  1  1  1  1  1  1  1  1]\n",
      " [23 21 19 24 35 17 18 24 33 27 21 23 31 28 19 24 32 27 16 41 23 32 29 33]]\n"
     ]
    }
   ],
   "source": [
    "print (\"Shape:\", shoe_sales.shape)\n",
    "print (\"Data:\", \"\\n\", shoe_sales)"
   ]
  },
  {
   "cell_type": "code",
   "execution_count": 9,
   "metadata": {},
   "outputs": [
    {
     "name": "stdout",
     "output_type": "stream",
     "text": [
      "Shape: (24, 2)\n",
      "Data: \n",
      "[[ 0 23]\n",
      " [ 0 21]\n",
      " [ 0 19]\n",
      " [ 0 24]\n",
      " [ 0 35]\n",
      " [ 0 17]\n",
      " [ 0 18]\n",
      " [ 0 24]\n",
      " [ 0 33]\n",
      " [ 0 27]\n",
      " [ 0 21]\n",
      " [ 0 23]\n",
      " [ 1 31]\n",
      " [ 1 28]\n",
      " [ 1 19]\n",
      " [ 1 24]\n",
      " [ 1 32]\n",
      " [ 1 27]\n",
      " [ 1 16]\n",
      " [ 1 41]\n",
      " [ 1 23]\n",
      " [ 1 32]\n",
      " [ 1 29]\n",
      " [ 1 33]]\n"
     ]
    }
   ],
   "source": [
    "shoe_sales = shoe_sales.T\n",
    "print (\"Shape:\",shoe_sales.shape)\n",
    "print (\"Data:\", \"\\n\", shoe_sales)"
   ]
  },
  {
   "cell_type": "code",
   "execution_count": 10,
   "metadata": {
    "collapsed": true
   },
   "outputs": [],
   "source": [
    "#This is the approach we are going to take\n",
    "#We are going to randomly shuffle the labels. Then compute the mean between the two groups. \n",
    "#Find the % of times when the difference between the means computed is greater than what we observed above\n",
    "#If the % of times is less than 5%, we would make the call that the improvements are real"
   ]
  },
  {
   "cell_type": "code",
   "execution_count": 9,
   "metadata": {},
   "outputs": [],
   "source": [
    "np.random.shuffle(shoe_sales)"
   ]
  },
  {
   "cell_type": "code",
   "execution_count": 10,
   "metadata": {},
   "outputs": [
    {
     "data": {
      "text/plain": [
       "array([[ 0,  0,  0,  0,  0,  0,  0,  0,  0,  0,  0,  0,  1,  1,  1,  1,\n",
       "         1,  1,  1,  1,  1,  1,  1,  1],\n",
       "       [23, 21, 19, 24, 35, 17, 18, 24, 33, 27, 21, 23, 31, 28, 19, 24,\n",
       "        32, 27, 16, 41, 23, 32, 29, 33]])"
      ]
     },
     "execution_count": 10,
     "metadata": {},
     "output_type": "execute_result"
    }
   ],
   "source": [
    "shoe_sales"
   ]
  },
  {
   "cell_type": "code",
   "execution_count": 12,
   "metadata": {},
   "outputs": [],
   "source": [
    "experiment_label = np.random.randint(0,2,shoe_sales.shape[0])"
   ]
  },
  {
   "cell_type": "code",
   "execution_count": 13,
   "metadata": {},
   "outputs": [
    {
     "data": {
      "text/plain": [
       "array([1, 0])"
      ]
     },
     "execution_count": 13,
     "metadata": {},
     "output_type": "execute_result"
    }
   ],
   "source": [
    "experiment_label"
   ]
  },
  {
   "cell_type": "code",
   "execution_count": 14,
   "metadata": {},
   "outputs": [
    {
     "name": "stdout",
     "output_type": "stream",
     "text": [
      "[[ 1  0]\n",
      " [ 0 21]]\n"
     ]
    }
   ],
   "source": [
    "experiment_data = np.array([experiment_label, shoe_sales[:,1]])\n",
    "experiment_data = experiment_data.T\n",
    "print (experiment_data)"
   ]
  },
  {
   "cell_type": "code",
   "execution_count": 15,
   "metadata": {},
   "outputs": [],
   "source": [
    "experiment_diff_mean =  experiment_data[experiment_data[:,0]==1].mean() \\\n",
    "                        - experiment_data[experiment_data[:,0]==0].mean()"
   ]
  },
  {
   "cell_type": "code",
   "execution_count": 16,
   "metadata": {},
   "outputs": [
    {
     "data": {
      "text/plain": [
       "-10.0"
      ]
     },
     "execution_count": 16,
     "metadata": {},
     "output_type": "execute_result"
    }
   ],
   "source": [
    "experiment_diff_mean"
   ]
  },
  {
   "cell_type": "code",
   "execution_count": 18,
   "metadata": {
    "collapsed": true
   },
   "outputs": [],
   "source": [
    "#Like the previous notebook, let's repeat this experiment 100 and then 100000 times"
   ]
  },
  {
   "cell_type": "code",
   "execution_count": 17,
   "metadata": {},
   "outputs": [],
   "source": [
    "def shuffle_experiment(number_of_times):\n",
    "    experiment_diff_mean = np.empty([number_of_times,1])\n",
    "    for times in np.arange(number_of_times):\n",
    "        experiment_label = np.random.randint(0,2,shoe_sales.shape[0])\n",
    "        experiment_data = np.array([experiment_label, shoe_sales[:,1]]).T\n",
    "        experiment_diff_mean[times] =  experiment_data[experiment_data[:,0]==1].mean() \\\n",
    "                        - experiment_data[experiment_data[:,0]==0].mean()\n",
    "    return experiment_diff_mean    "
   ]
  },
  {
   "cell_type": "code",
   "execution_count": 18,
   "metadata": {},
   "outputs": [
    {
     "name": "stderr",
     "output_type": "stream",
     "text": [
      "<ipython-input-17-782186f357a5>:7: RuntimeWarning: Mean of empty slice.\n",
      "  - experiment_data[experiment_data[:,0]==0].mean()\n",
      "/usr/local/lib/python3.9/site-packages/numpy/core/_methods.py:170: RuntimeWarning: invalid value encountered in double_scalars\n",
      "  ret = ret.dtype.type(ret / rcount)\n",
      "<ipython-input-17-782186f357a5>:6: RuntimeWarning: Mean of empty slice.\n",
      "  experiment_diff_mean[times] =  experiment_data[experiment_data[:,0]==1].mean() \\\n"
     ]
    }
   ],
   "source": [
    "experiment_diff_mean = shuffle_experiment(100)"
   ]
  },
  {
   "cell_type": "code",
   "execution_count": 19,
   "metadata": {},
   "outputs": [
    {
     "data": {
      "text/plain": [
       "array([[ nan],\n",
       "       [-10.],\n",
       "       [ nan],\n",
       "       [ 11.],\n",
       "       [-10.],\n",
       "       [-10.],\n",
       "       [ nan],\n",
       "       [ nan],\n",
       "       [ nan],\n",
       "       [ nan]])"
      ]
     },
     "execution_count": 19,
     "metadata": {},
     "output_type": "execute_result"
    }
   ],
   "source": [
    "experiment_diff_mean[:10]"
   ]
  },
  {
   "cell_type": "code",
   "execution_count": 20,
   "metadata": {},
   "outputs": [
    {
     "name": "stderr",
     "output_type": "stream",
     "text": [
      "/usr/local/lib/python3.9/site-packages/seaborn/distributions.py:2557: FutureWarning: `distplot` is a deprecated function and will be removed in a future version. Please adapt your code to use either `displot` (a figure-level function with similar flexibility) or `histplot` (an axes-level function for histograms).\n",
      "  warnings.warn(msg, FutureWarning)\n"
     ]
    },
    {
     "data": {
      "text/plain": [
       "<AxesSubplot:>"
      ]
     },
     "execution_count": 20,
     "metadata": {},
     "output_type": "execute_result"
    },
    {
     "data": {
      "image/png": "[encoded data removed]",
      "text/plain": [
       "<Figure size 432x288 with 1 Axes>"
      ]
     },
     "metadata": {
      "needs_background": "light"
     },
     "output_type": "display_data"
    }
   ],
   "source": [
    "sns.distplot(experiment_diff_mean, kde=False)"
   ]
  },
  {
   "cell_type": "code",
   "execution_count": 22,
   "metadata": {},
   "outputs": [
    {
     "name": "stdout",
     "output_type": "stream",
     "text": [
      "Data: Difference in mean greater than observed: [11. 11. 11. 11. 11. 11. 11. 11. 11. 11. 11. 11. 11. 11. 11. 11. 11. 11.\n",
      " 11. 11. 11.]\n",
      "Number of times diff in mean greater than observed: 21\n",
      "% of times diff in mean greater than observed: 21.0\n"
     ]
    }
   ],
   "source": [
    "#Finding % of times difference of means is greater than observed\n",
    "print (\"Data: Difference in mean greater than observed:\", \\\n",
    "        experiment_diff_mean[experiment_diff_mean>=observed_difference])\n",
    "\n",
    "print (\"Number of times diff in mean greater than observed:\", \\\n",
    "            experiment_diff_mean[experiment_diff_mean>=observed_difference].shape[0])\n",
    "print (\"% of times diff in mean greater than observed:\", \\\n",
    "        experiment_diff_mean[experiment_diff_mean>=observed_difference].shape[0]/float(experiment_diff_mean.shape[0])*100)"
   ]
  },
  {
   "cell_type": "markdown",
   "metadata": {},
   "source": [
    "#### Exercise: Repeat the above for 100,000 runs and report the results"
   ]
  },
  {
   "cell_type": "code",
   "execution_count": null,
   "metadata": {
    "collapsed": true
   },
   "outputs": [],
   "source": []
  },
  {
   "cell_type": "markdown",
   "metadata": {},
   "source": [
    "# Is the result by chance? "
   ]
  },
  {
   "cell_type": "markdown",
   "metadata": {},
   "source": [
    "### What is the justification for shuffling the labels? \n",
    "\n",
    ">Thought process is this: If price optimization had no real effect, then, the sales before optimization would often give more sales than sales after optimization. By shuffling, we are simulating the situation where that happens -  sales before optimization is greater than sales after optimization. If many such trials provide improvements, then, the price optimization has no effect. In statistical terms, *the observed difference could have occurred by chance*. \n",
    "\n",
    "Now, to show that the same difference in mean might lead to a different conclusion, let's try the same experiment with a different dataset. "
   ]
  },
  {
   "cell_type": "code",
   "execution_count": 24,
   "metadata": {
    "collapsed": true
   },
   "outputs": [],
   "source": [
    "before_opt = np.array([230, 210, 190, 240, 350, 170, 180, 240, 330, 270, 210, 230])\n",
    "after_opt = np.array([310, 180, 190, 240, 220, 240, 160, 410, 130, 320, 290, 210])"
   ]
  },
  {
   "cell_type": "code",
   "execution_count": 23,
   "metadata": {},
   "outputs": [
    {
     "name": "stdout",
     "output_type": "stream",
     "text": [
      "Mean sales before price optimization: 23.75\n",
      "Mean sales after price optimization: 27.916666666666668\n",
      "Difference in mean sales: 4.166666666666668\n"
     ]
    }
   ],
   "source": [
    "print (\"Mean sales before price optimization:\", np.mean(before_opt))\n",
    "print (\"Mean sales after price optimization:\", np.mean(after_opt))\n",
    "print (\"Difference in mean sales:\", np.mean(after_opt) - np.mean(before_opt)) #Same as above"
   ]
  },
  {
   "cell_type": "code",
   "execution_count": 24,
   "metadata": {},
   "outputs": [],
   "source": [
    "shoe_sales = np.array([np.append(np.zeros(before_opt.shape[0]), np.ones(after_opt.shape[0])),\n",
    "np.append(before_opt, after_opt)], dtype=int)\n",
    "shoe_sales = shoe_sales.T"
   ]
  },
  {
   "cell_type": "code",
   "execution_count": 26,
   "metadata": {},
   "outputs": [
    {
     "data": {
      "text/plain": [
       "<AxesSubplot:>"
      ]
     },
     "execution_count": 26,
     "metadata": {},
     "output_type": "execute_result"
    },
    {
     "data": {
      "image/png": "[encoded data removed]",
      "text/plain": [
       "<Figure size 432x288 with 1 Axes>"
      ]
     },
     "metadata": {
      "needs_background": "light"
     },
     "output_type": "display_data"
    }
   ],
   "source": [
    "experiment_diff_mean = shuffle_experiment(100000)\n",
    "sns.distplot(experiment_diff_mean, kde=False)"
   ]
  },
  {
   "cell_type": "code",
   "execution_count": 28,
   "metadata": {},
   "outputs": [
    {
     "name": "stdout",
     "output_type": "stream",
     "text": [
      "Number of times diff in mean greater than observed: 199\n",
      "% of times diff in mean greater than observed: 0.199\n"
     ]
    }
   ],
   "source": [
    "#Finding % of times difference of means is greater than observed\n",
    "print (\"Number of times diff in mean greater than observed:\", \\\n",
    "            experiment_diff_mean[experiment_diff_mean>=observed_difference].shape[0])\n",
    "print (\"% of times diff in mean greater than observed:\", \\\n",
    "        experiment_diff_mean[experiment_diff_mean>=observed_difference].shape[0]/float(experiment_diff_mean.shape[0])*100)"
   ]
  },
  {
   "cell_type": "markdown",
   "metadata": {},
   "source": [
    "### Did the conclusion change now? "
   ]
  },
  {
   "cell_type": "code",
   "execution_count": null,
   "metadata": {
    "collapsed": true
   },
   "outputs": [],
   "source": []
  },
  {
   "cell_type": "markdown",
   "metadata": {},
   "source": [
    "# Effect Size\n",
    "\n",
    "> **Because you can't argue with all the fools in the world. It's easier to let them have their way, then trick them when they're not paying attention**  - Christopher Paolini\n",
    "\n",
    "In the first case, how much did the price optimization increase the sales on average?"
   ]
  },
  {
   "cell_type": "code",
   "execution_count": 29,
   "metadata": {},
   "outputs": [
    {
     "name": "stdout",
     "output_type": "stream",
     "text": [
      "The % increase of sales in the first case: 17.5438596491 %\n"
     ]
    }
   ],
   "source": [
    "before_opt = np.array([23, 21, 19, 24, 35, 17, 18, 24, 33, 27, 21, 23])\n",
    "after_opt = np.array([31, 28, 19, 24, 32, 27, 16, 41, 23, 32, 29, 33])\n",
    "\n",
    "print (\"The % increase of sales in the first case:\", \\\n",
    "(np.mean(after_opt) - np.mean(before_opt))/np.mean(before_opt)*100,\"%\")"
   ]
  },
  {
   "cell_type": "code",
   "execution_count": 30,
   "metadata": {},
   "outputs": [
    {
     "name": "stdout",
     "output_type": "stream",
     "text": [
      "The % increase of sales in the second case: 1.75438596491 %\n"
     ]
    }
   ],
   "source": [
    "before_opt = np.array([230, 210, 190, 240, 350, 170, 180, 240, 330, 270, 210, 230])\n",
    "after_opt = np.array([310, 180, 190, 240, 220, 240, 160, 410, 130, 320, 290, 210])\n",
    "\n",
    "print (\"The % increase of sales in the second case:\", \\\n",
    "(np.mean(after_opt) - np.mean(before_opt))/np.mean(before_opt)*100,\"%\")"
   ]
  },
  {
   "cell_type": "markdown",
   "metadata": {},
   "source": [
    "**Would business feel comfortable spending millions of dollars if the increase is going to be just 1.75%. Does it make sense? Maybe yes - if margins are thin and any increase is considered good. But if the returns from the price optimization module does not let the company break even, it makes no sense to take that path.**"
   ]
  },
  {
   "cell_type": "markdown",
   "metadata": {},
   "source": [
    "> Someone tells you the result is statistically significant. The first question you should ask?\n",
    "\n",
    "# How large is the effect?\n",
    "\n",
    "To answer such a question, we will make use of the concept **confidence interval**\n",
    "\n",
    "In plain english, *confidence interval* is the range of values the measurement metric is going to take. \n",
    "\n",
    "An example would be: 90% of the times, the increase in average sales (before and after price optimization) would be within the bucket `3.4 and 6.7` (These numbers are illustrative. We will derive those numbers below)\n",
    "\n",
    "What is the *hacker's way* of doing it? We will do the following steps:\n",
    "\n",
    "1. From actual sales data, we sample the data with repetition (separately for before and after) - sample size will be the same as the original\n",
    "2. Find the differences between the mean of the two samples.\n",
    "3. Repeat steps 1 and 2 , say 100,000 times.\n",
    "4. Sort the differences. For getting 90% interval, take the 5% and 95% number. That range gives you the 90% confidence interval on the mean.\n",
    "5. This process of generating the samples is called **bootstrapping**"
   ]
  },
  {
   "cell_type": "code",
   "execution_count": 31,
   "metadata": {
    "collapsed": true
   },
   "outputs": [],
   "source": [
    "#Load the data\n",
    "before_opt = np.array([23, 21, 19, 24, 35, 17, 18, 24, 33, 27, 21, 23])\n",
    "after_opt = np.array([31, 28, 19, 24, 32, 27, 16, 41, 23, 32, 29, 33])"
   ]
  },
  {
   "cell_type": "code",
   "execution_count": 32,
   "metadata": {},
   "outputs": [],
   "source": [
    "#generate a uniform random sample\n",
    "random_before_opt = np.random.choice(before_opt, size=before_opt.size, replace=True)"
   ]
  },
  {
   "cell_type": "code",
   "execution_count": 33,
   "metadata": {},
   "outputs": [
    {
     "name": "stdout",
     "output_type": "stream",
     "text": [
      "Actual sample before optimization: [23 21 19 24 35 17 18 24 33 27 21 23]\n",
      "Bootstrapped sample before optimization:  [21 17 19 21 33 27 24 18 18 19 24 24]\n"
     ]
    }
   ],
   "source": [
    "print (\"Actual sample before optimization:\", before_opt)\n",
    "print (\"Bootstrapped sample before optimization: \", random_before_opt)"
   ]
  },
  {
   "cell_type": "code",
   "execution_count": 34,
   "metadata": {},
   "outputs": [
    {
     "name": "stdout",
     "output_type": "stream",
     "text": [
      "Mean for actual sample: 23.75\n",
      "Mean for bootstrapped sample: 22.0833333333\n"
     ]
    }
   ],
   "source": [
    "print (\"Mean for actual sample:\", np.mean(before_opt))\n",
    "print (\"Mean for bootstrapped sample:\", np.mean(random_before_opt))"
   ]
  },
  {
   "cell_type": "code",
   "execution_count": 35,
   "metadata": {},
   "outputs": [
    {
     "name": "stdout",
     "output_type": "stream",
     "text": [
      "Actual sample after optimization: [31 28 19 24 32 27 16 41 23 32 29 33]\n",
      "Bootstrapped sample after optimization:  [33 41 27 32 28 41 33 41 41 31 29 19]\n",
      "Mean for actual sample: 27.9166666667\n",
      "Mean for bootstrapped sample: 33.0\n"
     ]
    }
   ],
   "source": [
    "random_after_opt = np.random.choice(after_opt, size=after_opt.size, replace=True)\n",
    "print (\"Actual sample after optimization:\", after_opt)\n",
    "print (\"Bootstrapped sample after optimization: \", random_after_opt)\n",
    "print (\"Mean for actual sample:\", np.mean(after_opt))\n",
    "print (\"Mean for bootstrapped sample:\", np.mean(random_after_opt))"
   ]
  },
  {
   "cell_type": "code",
   "execution_count": 36,
   "metadata": {},
   "outputs": [
    {
     "name": "stdout",
     "output_type": "stream",
     "text": [
      "Difference in means of actual samples: 4.16666666667\n",
      "Difference in means of bootstrapped samples: 10.9166666667\n"
     ]
    }
   ],
   "source": [
    "print (\"Difference in means of actual samples:\", np.mean(after_opt) - np.mean(before_opt))\n",
    "print (\"Difference in means of bootstrapped samples:\", np.mean(random_after_opt) - np.mean(random_before_opt))"
   ]
  },
  {
   "cell_type": "code",
   "execution_count": 37,
   "metadata": {
    "collapsed": true
   },
   "outputs": [],
   "source": [
    "#Like always, we will repeat this experiment 100,000 times. \n",
    "\n",
    "def bootstrap_experiment(number_of_times):\n",
    "    mean_difference = np.empty([number_of_times,1])\n",
    "    for times in np.arange(number_of_times):\n",
    "        random_before_opt = np.random.choice(before_opt, size=before_opt.size, replace=True)\n",
    "        random_after_opt = np.random.choice(after_opt, size=after_opt.size, replace=True)\n",
    "        mean_difference[times] = np.mean(random_after_opt) - np.mean(random_before_opt)\n",
    "    return mean_difference"
   ]
  },
  {
   "cell_type": "code",
   "execution_count": 38,
   "metadata": {},
   "outputs": [
    {
     "data": {
      "text/plain": [
       "<matplotlib.axes._subplots.AxesSubplot at 0x10b5a60d0>"
      ]
     },
     "execution_count": 38,
     "metadata": {},
     "output_type": "execute_result"
    },
    {
     "data": {
      "image/png": "[encoded data removed]",
      "text/plain": [
       "<matplotlib.figure.Figure at 0x10bbb79d0>"
      ]
     },
     "metadata": {},
     "output_type": "display_data"
    }
   ],
   "source": [
    "mean_difference = bootstrap_experiment(100000)\n",
    "sns.distplot(mean_difference, kde=False)"
   ]
  },
  {
   "cell_type": "code",
   "execution_count": 39,
   "metadata": {},
   "outputs": [],
   "source": [
    "mean_difference = np.sort(mean_difference, axis=0)"
   ]
  },
  {
   "cell_type": "code",
   "execution_count": 40,
   "metadata": {},
   "outputs": [
    {
     "data": {
      "text/plain": [
       "array([[ -6.66666667],\n",
       "       [ -6.33333333],\n",
       "       [ -6.08333333],\n",
       "       ..., \n",
       "       [ 13.16666667],\n",
       "       [ 13.16666667],\n",
       "       [ 15.        ]])"
      ]
     },
     "execution_count": 40,
     "metadata": {},
     "output_type": "execute_result"
    }
   ],
   "source": [
    "mean_difference #Sorted difference"
   ]
  },
  {
   "cell_type": "code",
   "execution_count": 41,
   "metadata": {},
   "outputs": [
    {
     "data": {
      "text/plain": [
       "array([ 0.16666667,  8.08333333])"
      ]
     },
     "execution_count": 41,
     "metadata": {},
     "output_type": "execute_result"
    }
   ],
   "source": [
    "np.percentile(mean_difference, [5,95])"
   ]
  },
  {
   "cell_type": "markdown",
   "metadata": {},
   "source": [
    "Reiterating what this means: 90% of the times, the mean difference is between the limits as shown above"
   ]
  },
  {
   "cell_type": "markdown",
   "metadata": {},
   "source": [
    "**Exercise: Find the 95% percentile for confidence intevals**"
   ]
  },
  {
   "cell_type": "code",
   "execution_count": null,
   "metadata": {
    "collapsed": true
   },
   "outputs": [],
   "source": []
  },
  {
   "cell_type": "markdown",
   "metadata": {},
   "source": [
    "### Where do we go from here? \n",
    "\n",
    "First of all there are two points to be made.\n",
    "\n",
    "1. Whey do we need signficance testing if confidence intervals can provide us more information?\n",
    "2. How does it relate to the traditional statistical procedure of finding confidence intervals\n",
    "\n",
    "For the first one:\n",
    "\n",
    "What if sales in the first month after price changes was 80 and the month before price changes was 40. The difference is 40. And confidence interval,as explained above, using replacements, would always generate 40. But if we do the significance testing, as detailed above - where the labels are shuffled, the prices are equally likely to occur in both the groups. And so, significance testing would answer that there was no difference. But don't we all know that the data is **too small** to make meaningful inferences?\n",
    "\n",
    "For the second one:\n",
    "\n",
    "Traditional statistics derivation assumes normal distribution. But what if the underlying distribution isn't normal? Also, people relate to resampling much better :-) "
   ]
  }
 ],
 "metadata": {
  "kernelspec": {
   "display_name": "Python 3",
   "language": "python",
   "name": "python3"
  },
  "language_info": {
   "codemirror_mode": {
    "name": "ipython",
    "version": 3
   },
   "file_extension": ".py",
   "mimetype": "text/x-python",
   "name": "python",
   "nbconvert_exporter": "python",
   "pygments_lexer": "ipython3",
   "version": "3.9.1"
  }
 },
 "nbformat": 4,
 "nbformat_minor": 1
}
